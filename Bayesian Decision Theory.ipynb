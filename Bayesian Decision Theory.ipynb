{
 "cells": [
  {
   "cell_type": "code",
   "execution_count": 1,
   "id": "671abe76",
   "metadata": {},
   "outputs": [],
   "source": [
    "import numpy as np\n",
    "import matplotlib.pyplot as plt\n",
    "from sklearn.datasets import load_iris\n",
    "import seaborn as sns\n",
    "import pandas as pd\n",
    "import scipy.stats as stats\n",
    "import math\n",
    "from sklearn.model_selection import train_test_split\n",
    "from sklearn.metrics import accuracy_score\n",
    "from sklearn.preprocessing import normalize\n",
    "from sklearn.metrics import confusion_matrix"
   ]
  },
  {
   "cell_type": "code",
   "execution_count": 2,
   "id": "f1362cd8",
   "metadata": {},
   "outputs": [],
   "source": [
    "iris = load_iris()\n",
    "iris_df = pd.DataFrame(data= np.c_[iris['data'], iris['target']],\n",
    "                         columns= iris['feature_names'] + ['target'])\n",
    "cls_names = iris.target_names"
   ]
  },
  {
   "cell_type": "code",
   "execution_count": 3,
   "id": "817ea078",
   "metadata": {},
   "outputs": [],
   "source": [
    "def compute_class_stats(X, y):\n",
    "    cls_labels = np.unique(y)\n",
    "    n_cls = cls_labels.shape[0]\n",
    "    means = np.empty((n_cls, 1))\n",
    "    stds = np.empty((n_cls, 1))\n",
    "    \n",
    "    for i, cls in enumerate(cls_labels):\n",
    "        idxs = np.where(y == cls)\n",
    "        X_cls = X[idxs]\n",
    "        mean = X_cls.mean()\n",
    "        sigma = X_cls.std()\n",
    "        means[i] = mean\n",
    "        stds[i] = sigma\n",
    "        \n",
    "    return means, stds\n",
    "\n",
    "def calc_priors(y):\n",
    "    priors = []\n",
    "    n_examples = y.shape[0]\n",
    "    for cls in np.unique(y):\n",
    "        p = len(np.where(y == cls)[0]) / n_examples\n",
    "        priors.append(p)\n",
    "    return priors\n",
    "        \n",
    "def evaluate_gaussian(x, mu, sigma):\n",
    "    p = stats.norm.pdf(x, mu, sigma)\n",
    "    return p\n",
    "\n",
    "\n",
    "def plot_gaussians(means, stds, cls_names, point=None):\n",
    "    x = np.linspace(-1,10, 100).reshape(100, -1)\n",
    "    colors = ['r', 'g', 'b']\n",
    "    for i in range(means.shape[0]):\n",
    "        mu = means[i]\n",
    "        sigma = stds[i]\n",
    "        plt.plot(x, evaluate_gaussian(x, mu, sigma), \n",
    "                 label=cls_names[i], color=colors[i])\n",
    "        if(point):\n",
    "            y = evaluate_gaussian(point, mu, sigma)\n",
    "            plt.scatter(x=point, y=y, color=colors[i])\n",
    "            \n",
    "    plt.legend()\n",
    "    plt.show()"
   ]
  },
  {
   "cell_type": "code",
   "execution_count": 4,
   "id": "de079b55",
   "metadata": {},
   "outputs": [],
   "source": [
    "X = iris_df[\"petal length (cm)\"]\n",
    "y = iris_df[\"target\"]\n",
    "\n",
    "X_train, X_test, y_train, y_test = train_test_split(X, y, random_state=0)"
   ]
  },
  {
   "cell_type": "code",
   "execution_count": 5,
   "id": "3f344a8a",
   "metadata": {},
   "outputs": [
    {
     "name": "stdout",
     "output_type": "stream",
     "text": [
      "Mean and sigma of class setosa = [1.45405405], [0.14064445]\n",
      "Mean and sigma of class versicolor = [4.19117647], [0.47052389]\n",
      "Mean and sigma of class virginica = [5.58292683], [0.55211453]\n"
     ]
    }
   ],
   "source": [
    "means, stds = compute_class_stats(X_train.to_numpy(), y_train)\n",
    "\n",
    "for i in range(means.shape[0]):\n",
    "    print(f\"Mean and sigma of class {cls_names[i]} = {means[i]}, {stds[i]}\")"
   ]
  },
  {
   "cell_type": "code",
   "execution_count": 6,
   "id": "a2aedbd4",
   "metadata": {},
   "outputs": [
    {
     "data": {
      "image/png": "[encoded data removed]",
      "text/plain": [
       "<Figure size 432x288 with 1 Axes>"
      ]
     },
     "metadata": {
      "needs_background": "light"
     },
     "output_type": "display_data"
    }
   ],
   "source": [
    "plot_gaussians(means, stds, cls_names)"
   ]
  },
  {
   "cell_type": "markdown",
   "id": "6df42339",
   "metadata": {},
   "source": [
    "# Calculate and Visualize Priors"
   ]
  },
  {
   "cell_type": "code",
   "execution_count": 7,
   "id": "05111d0f",
   "metadata": {},
   "outputs": [
    {
     "data": {
      "image/png": "[encoded data removed]",
      "text/plain": [
       "<Figure size 432x288 with 1 Axes>"
      ]
     },
     "metadata": {
      "needs_background": "light"
     },
     "output_type": "display_data"
    }
   ],
   "source": [
    "priors = calc_priors(y_train)\n",
    "plt.bar(cls_names, priors, color=['r', 'g', 'b']);"
   ]
  },
  {
   "cell_type": "markdown",
   "id": "59ab0fa3",
   "metadata": {},
   "source": [
    "# Maximum Likelihood\n",
    "\n",
    "Maximum Likelihood Estimator computes how likely our observation is, given a hypothesis. It does not take into consideration the prior probiabilities (how likely these classes are to occur in our data). Mathematically, this is computed as:\n",
    "$$P(x| C_j)$$\n",
    "\n",
    "where X is the feature value and C is the class (hypothesis)."
   ]
  },
  {
   "cell_type": "code",
   "execution_count": 8,
   "id": "bab4dba4",
   "metadata": {},
   "outputs": [],
   "source": [
    "def predict_MLE(X, means, stds, n_cls):\n",
    "    likelihoods = np.empty((X.shape[0], n_cls))\n",
    "    for i in range(X.shape[0]):\n",
    "        for j in range(n_cls):\n",
    "            mu, sigma = means[j], stds[j]\n",
    "            l = evaluate_gaussian(X[i], mu, sigma)\n",
    "            likelihoods[i, j] = l\n",
    "    preds = np.argmax(likelihoods, axis=1)\n",
    "    return preds\n",
    "\n",
    "def plot_likelihood(x, means, stds, n_cls=3):\n",
    "    plot_gaussians(means, stds, cls_names, x)"
   ]
  },
  {
   "cell_type": "code",
   "execution_count": 9,
   "id": "826171c8",
   "metadata": {},
   "outputs": [
    {
     "data": {
      "image/png": "[encoded data removed]",
      "text/plain": [
       "<Figure size 432x288 with 1 Axes>"
      ]
     },
     "metadata": {
      "needs_background": "light"
     },
     "output_type": "display_data"
    }
   ],
   "source": [
    "plot_likelihood(X_test.iloc[0], means, stds, cls_names)"
   ]
  },
  {
   "cell_type": "code",
   "execution_count": 10,
   "id": "35984f14",
   "metadata": {},
   "outputs": [
    {
     "name": "stdout",
     "output_type": "stream",
     "text": [
      "0.9473684210526315\n"
     ]
    }
   ],
   "source": [
    "MLE_preds = predict_MLE(X_test.to_numpy(), means, stds, n_cls=3)\n",
    "MLE_accuracy = accuracy_score(y_test, MLE_preds)\n",
    "print(MLE_accuracy)"
   ]
  },
  {
   "cell_type": "code",
   "execution_count": 11,
   "id": "d00a73cd",
   "metadata": {},
   "outputs": [
    {
     "data": {
      "text/plain": [
       "array([[13,  0,  0],\n",
       "       [ 0, 15,  1],\n",
       "       [ 0,  1,  8]], dtype=int64)"
      ]
     },
     "execution_count": 11,
     "metadata": {},
     "output_type": "execute_result"
    }
   ],
   "source": [
    "confusion_matrix(y_test, MLE_preds)"
   ]
  },
  {
   "cell_type": "markdown",
   "id": "e73e3919",
   "metadata": {},
   "source": [
    "# Bayesian A Posteriori\n",
    "\n",
    "Bayesian A Posteriori approach evaluates the probability of each class (hypotheesis) given a measurement. Mathematically, this is defined as follows:\n",
    "                            $$P(C_j|x) =\\frac{P(x | C_j)}{P(x)}$$\n",
    "\n",
    "To make a prediction, we choose the class associated with the maximum posterior probability."
   ]
  },
  {
   "cell_type": "code",
   "execution_count": 12,
   "id": "389c2af0",
   "metadata": {},
   "outputs": [],
   "source": [
    "def compute_posteriors(X, priors, means, stds, n_cls):\n",
    "    n_points = X.shape[0]\n",
    "    posteriors = np.empty((n_points, n_cls))\n",
    "    for i in range(n_points):\n",
    "        for j in range(n_cls):\n",
    "            mu, sigma = means[j], stds[j]\n",
    "            likelihood = evaluate_gaussian(X[i], mu, sigma)\n",
    "            posteriors[i, j] = likelihood * priors[j]\n",
    "    posteriors = normalize(posteriors, axis=1, norm='l1')\n",
    "    return posteriors\n",
    "\n",
    "def predict_bayesian_posterior(X, priors, means, stds, n_cls):\n",
    "    posteriors = compute_posteriors(X, priors, means, stds, n_cls)\n",
    "    preds = np.argmax(posteriors, axis=1)\n",
    "    return preds\n",
    "\n",
    "def plot_posteriors(priors, means, stds, n_cls, cls_names):\n",
    "    x = np.linspace(-1,10, 100).reshape(100, -1)\n",
    "    posteriors = compute_posteriors(x, priors, means, stds, n_cls)\n",
    "    colors = ['r', 'g', 'b']\n",
    "    for i in range(n_cls):\n",
    "        y = posteriors[:, i]\n",
    "        plt.plot(x, y, colors[i],label=cls_names[i])\n",
    "    plt.legend()"
   ]
  },
  {
   "cell_type": "code",
   "execution_count": 13,
   "id": "a6dacae6",
   "metadata": {},
   "outputs": [
    {
     "data": {
      "image/png": "[encoded data removed]",
      "text/plain": [
       "<Figure size 432x288 with 1 Axes>"
      ]
     },
     "metadata": {
      "needs_background": "light"
     },
     "output_type": "display_data"
    }
   ],
   "source": [
    "plot_posteriors(priors, means, stds, 3, cls_names)"
   ]
  },
  {
   "cell_type": "code",
   "execution_count": 14,
   "id": "a6f5be38",
   "metadata": {},
   "outputs": [
    {
     "data": {
      "text/plain": [
       "0.9473684210526315"
      ]
     },
     "execution_count": 14,
     "metadata": {},
     "output_type": "execute_result"
    }
   ],
   "source": [
    "bayesian_preds = predict_bayesian_posterior(X_test.to_numpy(), priors, means, stds, 3)\n",
    "accuracy_score(y_test, bayesian_preds)"
   ]
  },
  {
   "cell_type": "code",
   "execution_count": 15,
   "id": "4a084e33",
   "metadata": {},
   "outputs": [
    {
     "data": {
      "text/plain": [
       "array([[13,  0,  0],\n",
       "       [ 0, 15,  1],\n",
       "       [ 0,  1,  8]], dtype=int64)"
      ]
     },
     "execution_count": 15,
     "metadata": {},
     "output_type": "execute_result"
    }
   ],
   "source": [
    "confusion_matrix(y_test, bayesian_preds)"
   ]
  },
  {
   "cell_type": "markdown",
   "id": "2a1a035a",
   "metadata": {},
   "source": [
    "# Risk Based Bayesian Decision Theory Classifier\n",
    "\n",
    "RBDTC does the same thing as Bayesian A Posteriori classifier, but it allows associating risks with classifications. In some situations where some mistakes are more costly than others, we can provide lower risks to safer predictions, so that we don't predict certain classes unless their posterior probabilities are really high. The risk is computed as shown below, and the class that minimizes this risk is chosen.\n",
    "\n",
    "$$R(\\alpha_i | x)=\\sum_{j=0}^n \\lambda_{ij}P(C_j|x)$$ where n is the number of classes and lambda is the risk matrix."
   ]
  },
  {
   "cell_type": "code",
   "execution_count": 16,
   "id": "30d96410",
   "metadata": {},
   "outputs": [],
   "source": [
    "def predict_RBDTC(risk_mat, X, priors, means, stds, n_cls):\n",
    "    posteriors = compute_posteriors(X, priors, means, stds, n_cls)\n",
    "    probList = [(posteriors * risk_mat[i]).sum(axis=1).reshape((-1, 1))\n",
    "                    for i in range(n_cls)]\n",
    "    prob = np.hstack(probList)\n",
    "    preds = np.argmin(prob, axis=1)\n",
    "    return preds"
   ]
  },
  {
   "cell_type": "code",
   "execution_count": 17,
   "id": "803a733f",
   "metadata": {},
   "outputs": [],
   "source": [
    "risk_mat = np.array([[-10, -1, -1],\n",
    "                       [-1, -10, -1],\n",
    "                       [-1, -1, -10]])\n",
    "\n",
    "RBDTC_preds = predict_RBDTC(risk_mat, X_test.to_numpy(), priors, means, stds, 3)"
   ]
  },
  {
   "cell_type": "code",
   "execution_count": 18,
   "id": "94a7051d",
   "metadata": {},
   "outputs": [
    {
     "name": "stdout",
     "output_type": "stream",
     "text": [
      "0.9473684210526315\n"
     ]
    }
   ],
   "source": [
    "print(accuracy_score(y_test, RBDTC_preds))"
   ]
  },
  {
   "cell_type": "code",
   "execution_count": 19,
   "id": "c49939c1",
   "metadata": {},
   "outputs": [
    {
     "data": {
      "text/plain": [
       "array([[13,  0,  0],\n",
       "       [ 0, 15,  1],\n",
       "       [ 0,  1,  8]], dtype=int64)"
      ]
     },
     "execution_count": 19,
     "metadata": {},
     "output_type": "execute_result"
    }
   ],
   "source": [
    "confusion_matrix(y_test, RBDTC_preds)"
   ]
  },
  {
   "cell_type": "markdown",
   "id": "75bcb727",
   "metadata": {},
   "source": [
    "Above, we supplied a risk matrix where similar risk is assigned to each class. To favor a certain class over others (consider a bank giving loan to a client, not granting the loan is definitely less costly than granting it to someone who may not repay), we can assign a lower risk to it. Below, we assign risk of -100 instead of -10 to class 3, and see how this affects the confusion matrix. Although this reduces the overall accuracy, it led to more points being classified as class 3 and less as class 2."
   ]
  },
  {
   "cell_type": "code",
   "execution_count": 20,
   "id": "9ee18ef4",
   "metadata": {},
   "outputs": [
    {
     "name": "stdout",
     "output_type": "stream",
     "text": [
      "0.7105263157894737\n"
     ]
    },
    {
     "data": {
      "text/plain": [
       "array([[13,  0,  0],\n",
       "       [ 0,  5, 11],\n",
       "       [ 0,  0,  9]], dtype=int64)"
      ]
     },
     "execution_count": 20,
     "metadata": {},
     "output_type": "execute_result"
    }
   ],
   "source": [
    "risk_mat = np.array([[-10, -1, -1],\n",
    "                       [-1, -10, -1],\n",
    "                       [-1, -1, -100]])\n",
    "\n",
    "RBDTC_preds = predict_RBDTC(risk_mat, X_test.to_numpy(), priors, means, stds, 3)\n",
    "print(accuracy_score(y_test, RBDTC_preds))\n",
    "confusion_matrix(y_test, RBDTC_preds)"
   ]
  },
  {
   "cell_type": "code",
   "execution_count": null,
   "id": "03342aaa",
   "metadata": {},
   "outputs": [],
   "source": []
  }
 ],
 "metadata": {
  "kernelspec": {
   "display_name": "Python 3 (ipykernel)",
   "language": "python",
   "name": "python3"
  },
  "language_info": {
   "codemirror_mode": {
    "name": "ipython",
    "version": 3
   },
   "file_extension": ".py",
   "mimetype": "text/x-python",
   "name": "python",
   "nbconvert_exporter": "python",
   "pygments_lexer": "ipython3",
   "version": "3.9.6"
  }
 },
 "nbformat": 4,
 "nbformat_minor": 5
}
